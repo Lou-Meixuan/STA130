{
 "cells": [
  {
   "cell_type": "markdown",
   "id": "e7a81bf2",
   "metadata": {},
   "source": [
    "# Importance of Social Connection And Community Engagement For Personal Health And Well-being."
   ]
  },
  {
   "cell_type": "markdown",
   "id": "c5990ff6",
   "metadata": {},
   "source": [
    "In recent years, mental health issues have received increased attention due to the emergence of COVID-19. Due to the impact of the epidemic many countries have adopted social isolation policies, which has affected people's social habits to varying degrees. And this proposal aims to study the relationship between social connection ,community engagement and personal health and Well-being by exploring CSCS data.\n",
    "\n",
    "This proposal contains three distinct analyses, they are as follow:"
   ]
  },
  {
   "cell_type": "markdown",
   "id": "b3c26bc4",
   "metadata": {},
   "source": [
    "## 1. Relationship Between Adherence to COVID-19 Preventive Measures and Psychological Distress\n",
    "### Research Question: \n",
    "Does the level of adherence to COVID-19 preventive measures affect individuals' psychological distress (anxiety)? Or is there a significant association between the adherence to different preventive measures and anxiety scores?\n"
   ]
  },
  {
   "cell_type": "markdown",
   "id": "d8cd9fde",
   "metadata": {},
   "source": [
    "### Variables: \n",
    "**Independent Variables (Adherence to COVID-19 Preventive Measures):**\n",
    "\n",
    "COVID_prevention_distancing: Adherence to social distancing. It is an ordinal categorical variable that describes different levels of compliance with maintaining 2 metres physically social distance from others guidelines. This variable has three main non-null categories and a null value category\n",
    "\n",
    "\n",
    "COVID_prevention_masks: Adherence to mask-wearing. It is an ordinal categorical variable that describes different levels of compliance with mask-wearing guidelines. This variable has three main non-null categories and a null value category\n",
    "\n",
    "COVID_prevention_avoid_trips: Adherence to reducing non-essential trips. It is an ordinal categorical variable that describes different levels of compliance with avoiding non-essential trips in the community guidelines. This variable has three main non-null categories and a null value category\n",
    "\n",
    "COVID_prevention_hand_washing: Adherence to hand hygiene. It is an ordinal categorical variable that describes different levels of compliance with Wash hands often guidelines. This variable has three main non-null categories and a null value category\n",
    "\n",
    "Since they are all categorical variables, bar chart can be used to visualize these variables.\n",
    "\n",
    "**Dependent Variables (Psychological Distress):**\n",
    "\n",
    "WELLNESS_gad_score: Anxiety score (Generalized Anxiety Disorder, GAD). It is a discrete numerical variable. It is a discrete numerical variable which is a measure used to assess wellness or mental health, particularly related to anxiety symptoms. The scores are discrete numerical values that indicate the severity of symptoms based on participant responses. The higher the score, the more anxious the participants felt.\n",
    "\n",
    "Bar chart can also be used for visualization."
   ]
  },
  {
   "cell_type": "markdown",
   "id": "0ca7d8ec",
   "metadata": {},
   "source": [
    "### Analysis: \n",
    "*Data Summarization:*\n",
    "\n",
    "First calculate the frequency for each preventive measure's adherence level, and then calculate the mean and standard deviation for anxiety scores. For visualization, use Bar Chart, Box Plot, and Scatter Plot to show the distribution of the statistics.\n",
    "\n",
    "*Confidence Intervals:*\n",
    "\n",
    "Calculate the 95% CI for the mean anxiety scores at each level of adherence for each preventive measure. And compare the confidence intervals of different adherence levels to determine if there are substantial differences.\n",
    "\n",
    "*Linear Regression:*\n",
    "\n",
    "Build a simple linear regression model to explore the effect of each preventive measure’s adherence level. This sometimes used for initial analysis.\n",
    "Take Social Distancing Adherence as a example:\n",
    "\n",
    "Anxiety Score=α+β×Social Distancing Adherence+ϵ\n",
    "\n",
    "The significance of the regression coefficient β can reveal whether a specific preventive measure has a notable impact on psychological distress.\n",
    "\n",
    "And also can build a multiple linear regression model to assess the combined effect of various COVID-19 preventive measures on anxiety scores."
   ]
  },
  {
   "cell_type": "markdown",
   "id": "880a110f",
   "metadata": {},
   "source": [
    "### Hypothesis:\n",
    "\n",
    "H0: There is no significant difference on average anxiety scores across different adherence levels.\n",
    "\n",
    "H1: There is a significant difference on average anxiety scores across different adherence levels."
   ]
  },
  {
   "cell_type": "markdown",
   "id": "6c108d5e",
   "metadata": {},
   "source": [
    "### Results And Discussion:\n",
    "*Possible results:*\n",
    "\n",
    "It’s possible that individuals who adhered more strictly to COVID-19 preventive measures experienced greater psychological distress. This could be due to increased isolation, loss of routine social interactions, or worry about health, all of which could contribute to higher levels of anxiety or depression.\n",
    "\n",
    "*How it related to the course project:*\n",
    "\n",
    "This research can let us better understaning how public health recommendations or personal health behaviors can influence psychological outcomes. Also if specific preventive measures are shown to correlate with increased psychological distress, this could inform public health policymakers on the need for mental health resources or interventions alongside preventive health guidelines.\n"
   ]
  },
  {
   "cell_type": "markdown",
   "id": "3d897163",
   "metadata": {},
   "source": [
    "## 2. Does Online Social Interaction Have Differential Effects on Loneliness?\n",
    "### Research Question: \n",
    "Does the frequency of online interactions significantly reduce feelings of loneliness?"
   ]
  },
  {
   "cell_type": "markdown",
   "id": "8588ca3e",
   "metadata": {},
   "source": [
    "### Variables: \n",
    "**Independent Variables (Types of Social Interaction):**\n",
    "\n",
    "CONNECTION_activities_group_video_chat_p3m: Frequency of group video chatting. It is an ordinal categorical variable. This variable captures social interaction through virtual means, especially relevant in contexts where in-person meetings may be limited, such as during the COVID-19 pandemic.\n",
    "\n",
    "CONNECTION_activities_onlinegames_p3m: Frequency of playing online games with others. It is an ordinal categorical variable. This variable is designed to capture a specific type of digital social interaction—gaming—which allows individuals to connect, communicate, and collaborate in a virtual environment.\n",
    "\n",
    "**Dependent Variables (Loneliness):**\n",
    "\n",
    "LONELY_ucla_loneliness_scale_isolated: Feeling of isolation. It is an ordinal categorical variable. This particular item reflects how often an individual feels isolated from others, capturing an essential component of loneliness.\n",
    "\n",
    "For these ordinal categorical variables, use the bar chart for visualization."
   ]
  },
  {
   "cell_type": "markdown",
   "id": "5aae88e5",
   "metadata": {},
   "source": [
    "### Analysis: \n",
    "\n",
    "*Data Summarization:*\n",
    "\n",
    "Use bar charts to visualize the distribution of responses for each variable: For CONNECTION_activities_group_video_chat_p3m and CONNECTION_activities_onlinegames_p3m, display how frequently respondents engage in group video chats and online games.\n",
    "\n",
    "For LONELY_ucla_loneliness_scale_isolated, show the distribution of reported feelings of isolation.\n",
    "\n",
    "*Linear Regression:*\n",
    "\n",
    "Use multiple linear regression which allows for examining the combined effect of different types of social interactions on loneliness.\n",
    "To add *confidence intervals* for the results: in ordinal logistic regression, calculate confidence intervals for each coefficient to understand the precision of estimates.\n",
    "Bootstrapping can be used to construct confidence intervals for ordinal categorical data associations if sample size allows, providing more robust interval estimates.\n",
    "\n"
   ]
  },
  {
   "cell_type": "markdown",
   "id": "2513fd36",
   "metadata": {},
   "source": [
    "### Hypothesis:\n",
    "\n",
    "H0: There is no significant difference in loneliness scores between high- and low-frequency interactions.\n",
    "\n",
    "H1: Individuals with higher interaction frequencies have significantly lower loneliness scores.\n"
   ]
  },
  {
   "cell_type": "markdown",
   "id": "c6d116a9",
   "metadata": {},
   "source": [
    "### Results And Discussion:\n",
    "\n",
    "*Possible results:*\n",
    "\n",
    "One possible result is that online interactions, such as video chats, online games, or social media use, effectively reduce feelings of loneliness. This outcome would suggest that, despite the lack of physical presence, virtual connections can provide meaningful social support, companionship, and engagement, thereby alleviating loneliness.\n",
    "\n",
    "*How it related to the course project:*\n",
    "\n",
    "The finding of this research could inform strategies to use online platforms effectively to combat loneliness, especially for those with limited physical social contact. And if certain types of online interactions are effective in reducing loneliness, programs or policies could be designed to encourage these, especially in times when face-to-face interaction is limited, for example during pandemics."
   ]
  },
  {
   "cell_type": "markdown",
   "id": "8f1a6575",
   "metadata": {},
   "source": [
    "## 3. The Different Impact of Different Social Interaction Frequency on Self-Rated Mental Health\n",
    "\n",
    "### Research Question: \n",
    "Does self-rated mental health differ significantly under social interaction with family and social interaction with friends?"
   ]
  },
  {
   "cell_type": "markdown",
   "id": "c616b933",
   "metadata": {},
   "source": [
    "### Variables: \n",
    "**Independent Variables (Social frequency):**\n",
    "\n",
    "CONNECTION_social_days_family_p7d_grouped: It is an ordinal categorical variable. This variable represents the frequency of interaction with family over the past week (e.g., “None,” “Some days,” “Most days,” “Every day”). Higher frequencies may provide greater social support, potentially improving self-rated health.\n",
    "\n",
    "CONNECTION_social_days_friends_p7d_grouped: Similar to family interaction frequency, this ordinal categorical variable captures the amount of social time spent with friends, which may also be associated with health benefits.\n",
    "\n",
    "**Dependent Variables (Mental Health):**\n",
    "\n",
    "WELLNESS_self_rated_mental_health: Individual’s self-assessment of their mental health at the current time. This is an ordinal categorical variable, which typically ranges from poor to excellent.\n",
    "\n",
    "Bar chart can be used to visualize these two ordinal categorical variables."
   ]
  },
  {
   "cell_type": "markdown",
   "id": "366bf2cb",
   "metadata": {},
   "source": [
    "### Analysis: \n",
    "\n",
    "*Data Summarization:*\n",
    "\n",
    "First calculate descriptive statistics such as mean and standard deviation for each group to understand their basic characteristics. And then plot the distributions (e.g., boxplot or histogram) for each group to visually examine the differences.\n",
    "\n",
    "*unpaired samples:*\n",
    "\n",
    "Since these are two independent groups (unpaired samples), this is suitable for an unpaired two-sample hypothesis test.\n",
    "\n",
    "Permutation Test: Use this method to create a null distribution by shuffling the group labels to test the difference between the two groups.\n",
    "\n",
    "1. Calculate the observed difference in means between the two groups.\n",
    "2. Shuffle group labels to generate a \"null distribution\" under the assumption of no difference and compute the mean difference for each shuffle.\n",
    "3. Calculate the p-value based on where the observed mean difference falls in this null distribution.\n",
    "\n",
    "Two-Sample Bootstrapped Confidence Interval: Calculate a bootstrapped confidence interval for the mean difference between the two groups. If the interval does not contain zero, it suggests a significant difference.\n",
    "\n",
    "1. Take bootstrap samples with replacement for each group separately.\n",
    "2. Compute the mean difference for each bootstrapped sample to create a distribution of mean differences.\n",
    "3. Calculate the confidence interval for this mean difference and check if it includes zero.\n",
    "\n",
    "Indicator Variable in Linear Regression: Use an indicator variable to represent \"family interaction\" and \"friend interaction\" within a linear regression model, and test if this variable significantly predicts the self-rated mental health score difference.\n",
    "\n",
    "1. Create a dataset with self-rated mental health scores and a binary indicator for group membership (0 for family, 1 for friends).\n",
    "2. Run a linear regression with mental health scores as the outcome and the group indicator as the predictor.\n",
    "3. Test the significance of the group indicator coefficient to determine if there's a significant difference."
   ]
  },
  {
   "cell_type": "markdown",
   "id": "bc04bbb0",
   "metadata": {},
   "source": [
    "### Hypothesis:\n",
    "\n",
    "H0: There is no significant difference in self-rated mental health scores between individuals who engage in social interaction with family versus with friends.\n",
    "\n",
    "H1: There is a significant difference in self-rated mental health scores between individuals who engage in social interaction with family versus with friends."
   ]
  },
  {
   "cell_type": "markdown",
   "id": "f88bf3ee",
   "metadata": {},
   "source": [
    "### Results And Discussion:\n",
    "\n",
    "*Possible results:*\n",
    "\n",
    "We may conclude that there is a statistically significant difference in self-rated mental health scores between the two types of social interactions.\n",
    "\n",
    "*How it related to the course project:*\n",
    "\n",
    "This result would indicate that interactions with family and friends have different effects on self-rated mental health. For example, if individuals who interact more with family report higher mental health scores on average, it could suggest that family interactions provide a stronger sense of support or well-being. Alternatively, if the scores are higher for friend interactions, it might suggest that socializing with friends is more beneficial for mental health in this sample.\n"
   ]
  }
 ],
 "metadata": {
  "kernelspec": {
   "display_name": "Python 3 (ipykernel)",
   "language": "python",
   "name": "python3"
  },
  "language_info": {
   "codemirror_mode": {
    "name": "ipython",
    "version": 3
   },
   "file_extension": ".py",
   "mimetype": "text/x-python",
   "name": "python",
   "nbconvert_exporter": "python",
   "pygments_lexer": "ipython3",
   "version": "3.11.6"
  }
 },
 "nbformat": 4,
 "nbformat_minor": 5
}
